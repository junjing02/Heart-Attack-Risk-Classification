{
 "cells": [
  {
   "cell_type": "markdown",
   "metadata": {
    "id": "uslVFXMiNSAM"
   },
   "source": [
    "# Individual Assignment: Classifying Risk of Heart Attack\n",
    "## Trimester Feb 2025\n",
    "\n",
    "In this assignment, you shall implement an L-layer standard neural network. We shall train the network to classify if a patient is in danger of an imminent heart attack. This is an individual Assignment contributing 10 marks for the course. It is divided into 2 parts. \n",
    "* Part A: Coding (60%)\n",
    "    * Implement an L-layered neural network from scratch with numpy library.\n",
    "    * Deadline: 20 July 2025 (Week 4, Sunday Midnight)\n",
    "* Part B: Theory (40%)\n",
    "    * This is a quiz on the implementation for this assignment, covering both theory and coding aspects. The quiz wil be conducted during lecture class.\n",
    "    * Date: 23 July 2025 (Week 5, Wed during class)\n",
    "    * Duration: 25 minutes\n",
    "\n",
    "---\n",
    "**Instruction**: \n",
    "\n",
    "1. Install **Anaconda** on your **local** machine and work on your assignment using `jupyter notebook`.\n",
    "2. Write your **name** and **student ID** at the top part of `a1_mlp.py`.\n",
    "3. Write your answer in the following designated areas as shown in the following. **Do not change** any non-designated areas. \n",
    "    ``` python\n",
    "    ### BEGIN CODE HERE ###\n",
    "    # ... Implement your code in this designated area only.\n",
    "    ### END CODE HERE ### \n",
    "    ``` \n",
    "    <br>  \n",
    "4. In this assignment, you are expected to use only the `sklearn` and `numpy` packages to implement the standard neural network from scratch. Do **not** import any other package, module, function or class other than those that have already been imported at `a1_mlp.py`. Do **not** use `pytorch` or other deep learning framework to implement the tasks.\n",
    "5. **Submission instruction** for Part A:\n",
    "   - **Rename** `a1_mlp.py` as \"`<your id>_a1_mlp.py`\" and submit it through WBLE. You do not need to submit this notebook file.\n"
   ]
  },
  {
   "cell_type": "code",
   "execution_count": 1,
   "metadata": {},
   "outputs": [],
   "source": [
    "from importlib import reload\n",
    "\n",
    "import a1_mlp\n",
    "import numpy as np\n",
    "import pandas as pd\n",
    "import matplotlib.pyplot as plt"
   ]
  },
  {
   "cell_type": "markdown",
   "metadata": {
    "id": "8umNxfAy3yvJ"
   },
   "source": [
    "---\n",
    "\n",
    "## Section 1 : Loading the Dataset\n",
    "\n",
    "Load the dataset into a dataframe. The dataset comprises the information for $M = 303$ patients. For each person, $F_x = 13$ input attributes are collected. The targeted variable is the column `heart_attack_risk` where:\n",
    "\n",
    "1. `heart_attack_risk` = 0: no risk of heart attack\n",
    "2. `heart_attack_risk` = 1: high risk of heart attack"
   ]
  },
  {
   "cell_type": "code",
   "execution_count": 2,
   "metadata": {
    "colab": {
     "base_uri": "https://localhost:8080/",
     "height": 226
    },
    "id": "53nWJjl2NSAZ",
    "outputId": "c10910eb-b00b-47f8-f4ec-975588047815",
    "tags": []
   },
   "outputs": [
    {
     "data": {
      "text/html": [
       "<div>\n",
       "<style scoped>\n",
       "    .dataframe tbody tr th:only-of-type {\n",
       "        vertical-align: middle;\n",
       "    }\n",
       "\n",
       "    .dataframe tbody tr th {\n",
       "        vertical-align: top;\n",
       "    }\n",
       "\n",
       "    .dataframe thead th {\n",
       "        text-align: right;\n",
       "    }\n",
       "</style>\n",
       "<table border=\"1\" class=\"dataframe\">\n",
       "  <thead>\n",
       "    <tr style=\"text-align: right;\">\n",
       "      <th></th>\n",
       "      <th>heart_attack_risk</th>\n",
       "      <th>age</th>\n",
       "      <th>gender</th>\n",
       "      <th>chest_pain_type</th>\n",
       "      <th>max_heart_rate</th>\n",
       "      <th>resting_ecg</th>\n",
       "      <th>resting_bp</th>\n",
       "      <th>cholestrol</th>\n",
       "      <th>num_major_vessels</th>\n",
       "      <th>fasting_bloodsugar</th>\n",
       "      <th>exercise_induced_angina</th>\n",
       "      <th>thal_rate</th>\n",
       "      <th>oldpeak</th>\n",
       "      <th>slope</th>\n",
       "    </tr>\n",
       "  </thead>\n",
       "  <tbody>\n",
       "    <tr>\n",
       "      <th>52</th>\n",
       "      <td>0</td>\n",
       "      <td>56</td>\n",
       "      <td>1</td>\n",
       "      <td>0</td>\n",
       "      <td>144</td>\n",
       "      <td>0</td>\n",
       "      <td>125</td>\n",
       "      <td>249</td>\n",
       "      <td>1</td>\n",
       "      <td>1</td>\n",
       "      <td>1</td>\n",
       "      <td>2</td>\n",
       "      <td>1.2</td>\n",
       "      <td>1</td>\n",
       "    </tr>\n",
       "    <tr>\n",
       "      <th>213</th>\n",
       "      <td>1</td>\n",
       "      <td>52</td>\n",
       "      <td>0</td>\n",
       "      <td>2</td>\n",
       "      <td>169</td>\n",
       "      <td>0</td>\n",
       "      <td>136</td>\n",
       "      <td>196</td>\n",
       "      <td>0</td>\n",
       "      <td>0</td>\n",
       "      <td>0</td>\n",
       "      <td>2</td>\n",
       "      <td>0.1</td>\n",
       "      <td>1</td>\n",
       "    </tr>\n",
       "    <tr>\n",
       "      <th>256</th>\n",
       "      <td>1</td>\n",
       "      <td>58</td>\n",
       "      <td>0</td>\n",
       "      <td>0</td>\n",
       "      <td>131</td>\n",
       "      <td>1</td>\n",
       "      <td>130</td>\n",
       "      <td>197</td>\n",
       "      <td>0</td>\n",
       "      <td>0</td>\n",
       "      <td>0</td>\n",
       "      <td>2</td>\n",
       "      <td>0.6</td>\n",
       "      <td>1</td>\n",
       "    </tr>\n",
       "    <tr>\n",
       "      <th>137</th>\n",
       "      <td>0</td>\n",
       "      <td>77</td>\n",
       "      <td>1</td>\n",
       "      <td>0</td>\n",
       "      <td>162</td>\n",
       "      <td>0</td>\n",
       "      <td>125</td>\n",
       "      <td>304</td>\n",
       "      <td>3</td>\n",
       "      <td>0</td>\n",
       "      <td>1</td>\n",
       "      <td>2</td>\n",
       "      <td>0.0</td>\n",
       "      <td>2</td>\n",
       "    </tr>\n",
       "    <tr>\n",
       "      <th>53</th>\n",
       "      <td>0</td>\n",
       "      <td>56</td>\n",
       "      <td>1</td>\n",
       "      <td>0</td>\n",
       "      <td>105</td>\n",
       "      <td>0</td>\n",
       "      <td>132</td>\n",
       "      <td>184</td>\n",
       "      <td>1</td>\n",
       "      <td>0</td>\n",
       "      <td>1</td>\n",
       "      <td>1</td>\n",
       "      <td>2.1</td>\n",
       "      <td>1</td>\n",
       "    </tr>\n",
       "  </tbody>\n",
       "</table>\n",
       "</div>"
      ],
      "text/plain": [
       "     heart_attack_risk  age  gender  chest_pain_type  max_heart_rate  \\\n",
       "52                   0   56       1                0             144   \n",
       "213                  1   52       0                2             169   \n",
       "256                  1   58       0                0             131   \n",
       "137                  0   77       1                0             162   \n",
       "53                   0   56       1                0             105   \n",
       "\n",
       "     resting_ecg  resting_bp  cholestrol  num_major_vessels  \\\n",
       "52             0         125         249                  1   \n",
       "213            0         136         196                  0   \n",
       "256            1         130         197                  0   \n",
       "137            0         125         304                  3   \n",
       "53             0         132         184                  1   \n",
       "\n",
       "     fasting_bloodsugar  exercise_induced_angina  thal_rate  oldpeak  slope  \n",
       "52                    1                        1          2      1.2      1  \n",
       "213                   0                        0          2      0.1      1  \n",
       "256                   0                        0          2      0.6      1  \n",
       "137                   0                        1          2      0.0      2  \n",
       "53                    0                        1          1      2.1      1  "
      ]
     },
     "execution_count": 2,
     "metadata": {},
     "output_type": "execute_result"
    }
   ],
   "source": [
    "df = pd.read_csv('dataset.csv')\n",
    "df.sample(5)"
   ]
  },
  {
   "cell_type": "markdown",
   "metadata": {},
   "source": [
    "<br>\n",
    "\n",
    "> **Task 1.1 (5 marks)** Implement the `a1_mlp.get_splits` function to get the training and validation splits. Here are the steps:\n",
    "> \n",
    "> 1. Split the columns into the input matrix (`X`) and targeted output (`y`). The input matrix has a shape of $(M, 13)$ and the targeted variable $(M, 1)$.\n",
    "> 2. Then, split the dataset (`X`, `y`) into training set (`X_train`, `y_train`) and validation set (`X_val`, `y_val`) using [sklearn.model_selection.train_test_split](https://scikit-learn.org/stable/modules/generated/sklearn.model_selection.train_test_split.html). Enable shuffling and set the random state to 42. The user should be allowed to set the split size `test_size`.\n"
   ]
  },
  {
   "cell_type": "code",
   "execution_count": 3,
   "metadata": {},
   "outputs": [
    {
     "name": "stdout",
     "output_type": "stream",
     "text": [
      "X_train.shape = (242, 13)\n",
      "y_train.shape = (242, 1)\n",
      "X_val.shape = (61, 13)\n",
      "y_val.shape = (61, 1)\n"
     ]
    }
   ],
   "source": [
    "reload(a1_mlp)\n",
    "X_train, X_val, y_train, y_val = a1_mlp.get_splits(df, test_size=0.2)\n",
    "\n",
    "print(f'{X_train.shape = }')\n",
    "print(f'{y_train.shape = }')\n",
    "print(f'{X_val.shape = }')\n",
    "print(f'{y_val.shape = }')"
   ]
  },
  {
   "cell_type": "markdown",
   "metadata": {
    "id": "DH5cL0NZQ02c"
   },
   "source": [
    "<br>\n",
    "\n",
    "> **Task 1.2 (5 marks)** Implement the `a1_mlp.standardize` function to standardize the input matrices `X_train` and `X_val` with the [StandardScaler](https://scikit-learn.org/stable/modules/generated/sklearn.preprocessing.StandardScaler.html) based on the mean and variance of training set. "
   ]
  },
  {
   "cell_type": "code",
   "execution_count": 4,
   "metadata": {
    "colab": {
     "base_uri": "https://localhost:8080/"
    },
    "id": "O736l4z5Q02d",
    "nbgrader": {
     "grade": false,
     "grade_id": "cell-8253b09bbfd52388",
     "locked": false,
     "schema_version": 3,
     "solution": true,
     "task": false
    },
    "outputId": "8a9d316a-22d8-44e8-90a9-bad6bc9cc061"
   },
   "outputs": [
    {
     "name": "stdout",
     "output_type": "stream",
     "text": [
      "X_train.mean() = 0.000000\n",
      "X_train.var()  = 1.000000\n",
      "X_val.mean() = -0.003846\n",
      "X_val.var()  = 1.051152\n"
     ]
    }
   ],
   "source": [
    "reload(a1_mlp)\n",
    "X_train, X_val = a1_mlp.standardize(X_train, X_val)\n",
    "\n",
    "print(f'{X_train.mean() = :f}')\n",
    "print(f'{X_train.var()  = :f}')\n",
    "print(f'{X_val.mean() = :f}')\n",
    "print(f'{X_val.var()  = :f}')"
   ]
  },
  {
   "cell_type": "markdown",
   "metadata": {},
   "source": [
    "---\n",
    "\n",
    "## Section 2: Initialization, Forward Propagation and Cost Function\n",
    "\n",
    "For the rest of this assignment, you can test your code on a two-layered neural network with the following settings."
   ]
  },
  {
   "cell_type": "code",
   "execution_count": 5,
   "metadata": {},
   "outputs": [],
   "source": [
    "M_train, Fx = X_train.shape\n",
    "\n",
    "layer_sizes = [Fx, 20, 1]\n",
    "act_functions = [None, 'tanh', 'sigmoid']\n",
    "lr = 0.5\n",
    "num_iters = 100"
   ]
  },
  {
   "cell_type": "markdown",
   "metadata": {
    "id": "LeFIb7eQPi7q"
   },
   "source": [
    "### Initialization Function\n",
    "\n",
    "> **Task 2.1 (12 marks)** Initialize the network parameters\n",
    ">\n",
    "> Implement the `a1_mlp.xavier_init` function to initialize the network parameters. The function creates and initializes the weights $\\mathbf{W} = \\{\\mathrm{None}, \\mathbf{W}^{[1]}, \\cdots,  \\mathbf{W}^{[L]}\\}$ and biases $\\mathbf{b}  = \\{\\mathrm{None}, \\mathbf{b}^{[1]}, \\cdots, \\mathbf{b}^{[L]}\\}$ for all $L$ layers.\n",
    ">\n",
    "> * Use **Xavier initialization** (use [np.random.normal](https://numpy.org/doc/2.1/reference/random/generated/numpy.random.normal.html)) to initialize the weight matrices $\\mathbf{W}^{[1]}$ where:\n",
    ">  $$\\mathbf{W}^{[l]}  \\thicksim \\mathcal{N}(0, \\frac{2}{F^{[l-1]} + F^{[l]}})$$\n",
    "> where $\\mathcal{N}(\\mu,\\sigma^2)$ is the normal distribution with mean $\\mu$ and variance $\\sigma^2$. For xavier initialization, the standard deviation $\\sigma = \\sqrt{\\frac{2}{F^{[l-1]} + F^{[l]}}}$ <br>The shape of $\\mathbf{W}^{[l]} = \\mathbb{R}^{F^{[l-1]}\\times F^{[l]}}$ where $F^{[l-1]}$ and$F^{[l]}$ are the number of features (units) in the previous layer $l - 1$ and current layer $l$, respectively.\n",
    "> * Use **zero initialization** (use `np.zeros`) for the biases $\\mathbf{b}^{[1]}, \\cdots, \\mathbf{b}^{[L]}$ where $\\mathbf{b}^{[l]} = \\mathbb{R}^{F^{[l]}\\times 1}$."
   ]
  },
  {
   "cell_type": "code",
   "execution_count": 6,
   "metadata": {
    "nbgrader": {
     "grade": true,
     "grade_id": "cell-1066e9d8a8b8c151",
     "locked": true,
     "points": 3,
     "schema_version": 3,
     "solution": false,
     "task": false
    }
   },
   "outputs": [
    {
     "name": "stdout",
     "output_type": "stream",
     "text": [
      "dtype of weights : [dtype('float64'), dtype('float64')]\n",
      "Shape of weights : [(13, 20), (20, 1)]\n",
      "Mean of Wi       : [0.0018747445236994556, -0.10672795544374929]\n",
      "Std of Wi        : [0.23937357903724135, 0.3365762532114717]\n",
      "\n",
      "dtype of biases  : [dtype('float64'), dtype('float64')]\n",
      "Shape of biases  :  [(20, 1), (1, 1)]\n",
      "Mean of bi       : [0.0, 0.0]\n",
      "Std of bi        : [0.0, 0.0]\n"
     ]
    }
   ],
   "source": [
    "reload(a1_mlp)\n",
    "weights, biases = a1_mlp.xavier_init(layer_sizes)\n",
    "\n",
    "print('dtype of weights :', [Wi.dtype for Wi in weights[1:]])\n",
    "print('Shape of weights :', [Wi.shape for Wi in weights[1:]])\n",
    "print('Mean of Wi       :', [float(Wi.mean()) for Wi in weights[1:]])\n",
    "print('Std of Wi        :', [float(Wi.std()) for Wi in weights[1:]])\n",
    "\n",
    "print('\\ndtype of biases  :', [bi.dtype for bi in biases[1:]])\n",
    "print('Shape of biases  : ', [bi.shape for bi in biases[1:]])\n",
    "print('Mean of bi       :', [float(bi.mean()) for bi in biases[1:]])\n",
    "print('Std of bi        :', [float(bi.std()) for bi in biases[1:]])"
   ]
  },
  {
   "cell_type": "markdown",
   "metadata": {
    "id": "Qtad-5Q4Pi70"
   },
   "source": [
    ">  **Task 2.2 (10 marks)** Forward propagation through a linear layer\n",
    ">\n",
    "> Implement the `a1_mlp.forward_linear` function which performs forward propagation for layer $l$ of the network.\n",
    "> \n",
    "> ![image.png](data:image/png;base64,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)\n",
    ">\n",
    "> The function `forward_linear` computes the value of $\\mathbf{A}^{[l]}$ through two phases.\n",
    "> \n",
    "> * The *summation phase* computes the following equations:\n",
    "> \n",
    ">     $$\\mathbf{Z}^{[l]} = \\mathbf{A}^{[l-1]}\\mathbf{W}^{[l]} + \\mathbf{b}^{[l]T}$$\n",
    "> \n",
    ">     where $\\mathbf{A}^{[l-1]}$ (or `A_prev`) is the previous activations from layer $l-1$ and $\\mathbf{A}^{[l]}$ (or `A`) is the current activations from layer $l$. Note that $\\mathbf{A}^{[0]} = \\mathbf{X}$\n",
    "> \n",
    "> * The *activation phase* transforms the weighted input $\\mathbf{Z}^{[l]}$ using a non-linear function. The function allows user to choose one of the two activation functions:\n",
    "> \n",
    ">   * *sigmoid* activation:\n",
    ">         \n",
    ">     $$\\mathbf{A}^{[l]}(\\mathbf{Z}^{[l]}) = \\frac{1}{1+e^{-\\mathbf{Z}^{[l]}}}$$\n",
    ">         \n",
    ">   * *tanh* activation:\n",
    ">     \n",
    ">     $$\\mathbf{A}^{[l]}(\\mathbf{Z}^{[l]}) = \\frac{e^{\\mathbf{Z}^{[l]}}-e^{-\\mathbf{Z}^{[l]}}}{e^{\\mathbf{Z}^{[l]}}+e^{-\\mathbf{Z}^{[l]}}}$$\n",
    ">     \n",
    "> The function also returns a cache value that stores all the tensors in the forward propagation that is required for backpropagation later.\n",
    ">     \n",
    "> $$\\mathrm{cache}^{[l]} = (\\mathbf{W}^{[l]}, \\mathbf{A}^{[l-1]}, \\mathbf{A}^{[l]})$$\n"
   ]
  },
  {
   "cell_type": "code",
   "execution_count": 7,
   "metadata": {
    "nbgrader": {
     "grade": true,
     "grade_id": "cell-5909cca79a8ab089",
     "locked": true,
     "points": 6,
     "schema_version": 3,
     "solution": false,
     "task": false
    }
   },
   "outputs": [
    {
     "name": "stdout",
     "output_type": "stream",
     "text": [
      "Layer 1: input shape = (242, 13), output shape = (242, 20)\n",
      "Layer 2: input shape = (242, 20), output shape = (242, 1)\n",
      "\n",
      "A1:\n",
      "[[ 0.51847139  0.36277494  0.83422331 -0.46526295 -0.02792944]\n",
      " [-0.79793795  0.17945402 -0.19968765  0.77735434  0.67202721]\n",
      " [-0.75561479  0.87919656  0.17374779 -0.77535987  0.31208457]]\n",
      "\n",
      "A2:\n",
      "[[0.19726208]\n",
      " [0.74819208]\n",
      " [0.25122037]]\n"
     ]
    }
   ],
   "source": [
    "reload(a1_mlp)\n",
    "\n",
    "A1, cache1 = a1_mlp.forward_linear(X_train, weights[1], biases[1], \"tanh\")\n",
    "A2, cache2 = a1_mlp.forward_linear(A1, weights[2], biases[2], \"sigmoid\")\n",
    "\n",
    "print(f'Layer 1: input shape = {X_train.shape}, output shape = {A1.shape}')\n",
    "print(f'Layer 2: input shape = {A1.shape}, output shape = {A2.shape}')\n",
    "\n",
    "print(f'\\nA1:\\n{A1[:3,:5]}')\n",
    "print(f'\\nA2:\\n{A2[:3,:5]}')"
   ]
  },
  {
   "cell_type": "markdown",
   "metadata": {
    "id": "58CzVVjsPi75",
    "jp-MarkdownHeadingCollapsed": true
   },
   "source": [
    "> **Task 2.3 (12 marks)** Forward propagation for the standard neural network\n",
    "> \n",
    "> Complete the `a1_mlp.forward` function to perform forward propagation algorithm through an $L$-layered neural network. \n",
    "> * The model is parameterized by `weights` and `biases`. \n",
    "> * Given an input signal $\\mathbf{X}$, forward propagation computes the predicted output $\\hat{\\mathbf{Y}}$ (or equivalently $\\mathbf{A}^{[L]}$). To do that, use a *for* to perform forward propagation (`forward_linear`) through all layers $i = 1, \\cdots, L$.\n",
    "> * Clip the output of the network $\\mathbf{A}^{[L]}$ so that it lies in the range [1e-5, 1-1e-5] for numerical stability when computing the cost later.\n",
    "> * Save the cache of each layer `cache[i]` into a list called `caches`. Note that for the input layer, `caches[0]` is set to `None`.\n",
    ">\n",
    "> ![image.png](data:image/png;base64,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)"
   ]
  },
  {
   "cell_type": "code",
   "execution_count": 9,
   "metadata": {
    "colab": {
     "base_uri": "https://localhost:8080/"
    },
    "id": "-N6nFA28NSAo",
    "nbgrader": {
     "grade": true,
     "grade_id": "cell-e3a9ba80af900a94",
     "locked": true,
     "points": 6,
     "schema_version": 3,
     "solution": false,
     "task": false
    },
    "outputId": "e9a463c9-7cf8-4c42-a789-0a61802bc89f"
   },
   "outputs": [
    {
     "name": "stdout",
     "output_type": "stream",
     "text": [
      "Predicted value for first 5 samples):\n",
      "[[0.19726208 0.74819208 0.25122037 0.37627309 0.73408172]]\n",
      "\n",
      "y_hat.shape = (242, 1)\n",
      "len(caches)   = 3\n"
     ]
    }
   ],
   "source": [
    "reload(a1_mlp)\n",
    "\n",
    "y_hat, caches = a1_mlp.forward(X_train, weights, biases, act_functions)\n",
    "\n",
    "print(f'Predicted value for first 5 samples):\\n{y_hat[:5].T}')\n",
    "print(f'\\n{y_hat.shape = }')\n",
    "print(f'{len(caches)   = }')"
   ]
  },
  {
   "cell_type": "markdown",
   "metadata": {
    "id": "3RDZqbkhPi79"
   },
   "source": [
    "> **Task 2.4 (5 marks)** Binary cross entropy cost function\n",
    ">\n",
    "> Implement the `a1_mlp.compute_cost` function to compute the binary cost entropy by comparing the predicted value $\\hat{\\mathbf{y}}$ and the actual label $\\mathbf{y}$.\n",
    "> \n",
    "> \\begin{eqnarray*}\n",
    "J(\\mathbf{W}, \\mathbf{b}) & = & \\frac{1}{M} \\sum_{i = 1}^{M} - y^{(i)}\\log \\hat{y}^{(i)} - (1-y^{(i)})\\log (1- \\hat{y}^{(i)}) \\\\\n",
    "             & = & \\textrm{mean}(-\\mathbf{y}*\\log(\\hat{\\mathbf{y}}) - (1-\\mathbf{y})*\\log(1-\\hat{\\mathbf{y}}))\n",
    "\\end{eqnarray*}\n",
    "> \n",
    "> where $*$ is the element-wise operation product operation."
   ]
  },
  {
   "cell_type": "code",
   "execution_count": 10,
   "metadata": {
    "nbgrader": {
     "grade": true,
     "grade_id": "cell-a083713b81475ba0",
     "locked": true,
     "points": 3,
     "schema_version": 3,
     "solution": false,
     "task": false
    }
   },
   "outputs": [
    {
     "name": "stdout",
     "output_type": "stream",
     "text": [
      "cost = 0.6522\n"
     ]
    }
   ],
   "source": [
    "reload(a1_mlp)\n",
    "\n",
    "cost = a1_mlp.compute_cost(y_hat, y_train)\n",
    "print(f'{cost = :.4f}')"
   ]
  },
  {
   "cell_type": "markdown",
   "metadata": {},
   "source": [
    "---\n",
    "## Section 3: Backpropagation"
   ]
  },
  {
   "attachments": {},
   "cell_type": "markdown",
   "metadata": {},
   "source": [
    "> **Task 3.1 (5 marks)** Backpropagation for the cost layer\n",
    ">\n",
    "> Implement the `a1_mlp.backprop_cost_layer` function to backprop through the cost function as shown in the figure below.\n",
    "> \n",
    "> ![image.png](data:image/png;base64,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)\n",
    ">\n",
    "> Backpropagating through the cost layer gives us the gradient at the output of the last fully connected layer which is given by:\n",
    ">\n",
    "> $$\\frac{\\partial J}{\\partial \\hat{\\mathbf{y}}} = \\frac{1}{M} (\\frac{1 - \\mathbf{y}}{1 - \\hat{\\mathbf{y}}} - \\frac{\\mathbf{y}}{\\hat{\\mathbf{y}}})$$\n",
    ">\n",
    "> where $M$ is the number of samples, $\\mathbf{y}$ is the actual label and $\\hat{\\mathbf{y}}$ is the predicted value."
   ]
  },
  {
   "cell_type": "code",
   "execution_count": 12,
   "metadata": {
    "nbgrader": {
     "grade": true,
     "grade_id": "cell-579f117e25f49eb3",
     "locked": true,
     "points": 3,
     "schema_version": 3,
     "solution": false,
     "task": false
    }
   },
   "outputs": [
    {
     "name": "stdout",
     "output_type": "stream",
     "text": [
      "dAL:\n",
      " [[ 0.00514767]\n",
      " [-0.00552296]\n",
      " [-0.01644863]\n",
      " [ 0.00662507]\n",
      " [-0.00562912]]\n"
     ]
    }
   ],
   "source": [
    "reload(a1_mlp)\n",
    "\n",
    "dAL = a1_mlp.backprop_cost_layer(y_hat, y_train)\n",
    "print('dAL:\\n', dAL[:5])\n",
    "assert dAL.shape == y_hat.shape"
   ]
  },
  {
   "cell_type": "markdown",
   "metadata": {
    "id": "5UUHWYjnQYcb"
   },
   "source": [
    "> **Task 3.2 (16 marks)** Backpropagation for the linear layer\n",
    ">\n",
    "> Complete the function `a1_mlp.backprop_linear_layer` which performs the backpropagation through *one* fully connected (FC) layer.\n",
    "> \n",
    "> The inputs to the model are:\n",
    "> * $\\mathrm{cache}^{[l]} = (\\mathbf{W}^{[l]}, \\mathbf{A}^{[l-1]}, \\mathbf{A}^{[l]})$ was generated when performing forward propagation (`forward_linear`) for all layers $l = 1, \\cdots, L$ in `forward`) earlier. `cache[l]` stores the tensors required when backpropagating through layer $l$.\n",
    "> * $\\frac{\\partial J}{\\partial \\mathbf{A}^{[l]}}$ is the upstream gradient of layer $l$ and is computed by `backprop_linear_layer` on layer $l+1$.\n",
    ">   \n",
    "> ![image.png](data:image/png;base64,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)\n",
    ">\n",
    "> To perform backpropagation through layer $[l]$, it first backprop through the *activation* function followed by the *summation* function:\n",
    ">\n",
    "> 1. **Backprop through activation phase**. The input is the upstream gradient $\\frac{\\partial J}{\\partial \\mathbf{A}^{[l]}}$. The output $\\frac{\\partial J}{\\partial \\mathbf{Z}^{[l]}}$ is computed as follows:\n",
    ">   * For *sigmoid* activation:\n",
    ">     $$\\frac{\\partial J}{\\partial \\mathbf{Z}^{[l]}} = \\frac{\\partial J}{\\partial \\mathbf{A}^{[l]}}* \\mathbf{A}^{[l]}*(1-\\mathbf{A}^{[l]})$$\n",
    "> \n",
    ">    * For *tanh* activation:    \n",
    "    $$\\frac{\\partial J}{\\partial \\mathbf{Z}^{[l]}} = \\frac{\\partial J}{\\partial \\mathbf{A}^{[l]}}* \\big(1 - (\\mathbf{A}^{[l]})^2\\big)$$\n",
    "> \n",
    ">   where $*$ is performing *element-wise* multiplication. <br> <br>\n",
    "> \n",
    "> 2. **Backprop through summation phase**. The input is the upstream gradient $\\frac{\\partial J}{\\partial \\mathbf{Z}^{[l]}}$. The outputs $\\frac{\\partial J}{\\partial \\mathbf{W}^{[l]}}$, $\\frac{\\partial J}{\\partial \\mathbf{b}^{[l]}}$ and $\\frac{\\partial J}{\\partial \\mathbf{A}^{[l-1]}}$ are computed as follows:\n",
    "> \n",
    ">     $$ \\frac{\\partial J}{\\partial \\mathbf{W}^{[l]}} =  \\mathbf{A}^{[l-1]T} \\frac{\\partial J}{\\partial \\mathbf{Z}^{[l]}} $$\n",
    "> \n",
    ">     $$ \\frac{\\partial J}{\\partial \\mathbf{b}^{[l]}} =  (\\mathbf{1}^T \\frac{\\partial J}{\\partial \\mathbf{Z}^{[l]}})^T$$\n",
    "> \n",
    ">     $$ \\frac{\\partial J}{\\partial \\mathbf{A}^{[l-1]}} = \\frac{\\partial J}{\\partial \\mathbf{Z}^{[l]}}\\mathbf{W}^{[l]T}$$\n",
    "> \n",
    "> Notes: $\\frac{\\partial J}{\\partial \\mathbf{b}^{[l]}}$ can also be implemented by summing the rows of $\\frac{\\partial J}{\\partial \\mathbf{Z}^{[l]}}$ and then transposing it to get the column vector."
   ]
  },
  {
   "cell_type": "code",
   "execution_count": 13,
   "metadata": {
    "colab": {
     "base_uri": "https://localhost:8080/"
    },
    "id": "hcllfl3KNSAp",
    "nbgrader": {
     "grade": true,
     "grade_id": "cell-4d4d1aa49e59670b",
     "locked": true,
     "points": 8,
     "schema_version": 3,
     "solution": false,
     "task": false
    },
    "outputId": "16eef193-b4b2-402a-8f58-c3b0ef32acda"
   },
   "outputs": [
    {
     "name": "stdout",
     "output_type": "stream",
     "text": [
      "Backprop for sigmoid activation:\n",
      "dA1: Shape = (242, 20): [-2.33174333e-04 -1.49739227e-05 -8.15358188e-04 -2.57690207e-04]\n",
      "dW2: Shape = (20, 1): [[ 0.09207723 -0.04207996 -0.05582686  0.03932455]]\n",
      "db2: Shape = (1, 1): [[-0.04487718]]\n",
      "\n",
      "Backprop for tanh activation:\n",
      "dA1: Shape = (242, 20): [-1.41522786e-03 -9.08826983e-05 -4.94873347e-03 -1.56402446e-03]\n",
      "dW2: Shape = (20, 1): [[ 0.28671372 -0.13066431 -0.19654976  0.15021768]]\n",
      "db2: Shape = (1, 1): [[-0.17797528]]\n"
     ]
    }
   ],
   "source": [
    "reload(a1_mlp)\n",
    "\n",
    "dA1, dW2, db2 = a1_mlp.backprop_linear_layer(dAL, caches[2], \"sigmoid\")\n",
    "print('Backprop for sigmoid activation:')\n",
    "print(f'dA1: Shape = {dA1.shape}: {dA1[0, :4]}')\n",
    "print(f'dW2: Shape = {dW2.shape}: {dW2[:4].T}')\n",
    "print(f'db2: Shape = {db2.shape}: {db2}')\n",
    "\n",
    "dA1, dW2, db2 = a1_mlp.backprop_linear_layer(dAL, caches[2], \"tanh\")\n",
    "print('\\nBackprop for tanh activation:')\n",
    "print(f'dA1: Shape = {dA1.shape}: {dA1[0, :4]}')\n",
    "print(f'dW2: Shape = {dW2.shape}: {dW2[:4].T}')\n",
    "print(f'db2: Shape = {db2.shape}: {db2}')\n"
   ]
  },
  {
   "cell_type": "markdown",
   "metadata": {
    "id": "HbTgg6YgZ75x"
   },
   "source": [
    "> **Task 3.3 (12 marks)**: Backpropagation for the standard neural network\n",
    ">\n",
    "> Complete the function `a1_mlp.backprop` to implement the backpropagation for the whole standard neural network. The backpropagation algorithm computes the gradient of the cost w.r.t. all model parameters, i.e., $\\frac{\\partial J}{\\mathbf{W}^{[1]}}$, $\\frac{\\partial J}{\\mathbf{b}^{[1]}}$, ..., $\\frac{\\partial J}{\\mathbf{W}^{[L]}}$, $\\frac{\\partial J}{\\mathbf{b}^{[L]}}$.\n",
    ">\n",
    "> ![image.png](data:image/png;base64,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)\n",
    ">\n",
    "> The backpropagation algorithm first backprops through the cost function. Then, it backprops through the fully connected layers starting from the *last* linear layer back to layer 1.\n",
    "> \n",
    "> * To backprop through the loss function, call the `backprop_cost_layer`\n",
    "$$\\frac{\\partial J}{\\partial \\mathbf{A}^{[L]}} = \\mathrm{backprop\\_cost\\_layer} (\\mathbf{y}, \\hat{\\mathbf{y}})$$\n",
    "> * To backprop through the fully connected layers, use a `for` loop and call `backprop_linear_layer` to process each layer iteratively starting from layer $L$ back to layer 1.\n",
    "> \n",
    "> $$\\frac{\\partial J}{\\partial \\mathbf{A}^{[l-1]}} = \\mathrm{backprop\\_linear\\_layer}(\\frac{\\partial J}{\\partial \\mathbf{A}^{[l]}}, \\mathrm{cache}^{[l]}, \\mathbf{A}^{[l]})$$"
   ]
  },
  {
   "cell_type": "code",
   "execution_count": 14,
   "metadata": {
    "colab": {
     "base_uri": "https://localhost:8080/"
    },
    "id": "WrkHGFYxNSAq",
    "nbgrader": {
     "grade": true,
     "grade_id": "cell-ac05202da519f49c",
     "locked": true,
     "points": 7,
     "schema_version": 3,
     "solution": false,
     "task": false
    },
    "outputId": "0663b66a-d311-4f55-8617-531c11391b0b"
   },
   "outputs": [
    {
     "name": "stdout",
     "output_type": "stream",
     "text": [
      "Shape of the weights   = [None, (13, 20), (20, 1)]\n",
      "Shape of the biases    = [None, (20, 1), (1, 1)]\n",
      "\n",
      "weights[1] (first 3 rows):\n",
      "[[ 0.12228257 -0.03403832  0.1594499 ]\n",
      " [ 0.36081778 -0.05558228  0.01662429]\n",
      " [ 0.1817979   0.04218795 -0.02847064]\n",
      " [-0.11796454 -0.04570608 -0.27236084]\n",
      " [-0.05407948  0.08791504  0.36383236]]\n",
      "\n",
      "biases[1] (first 3 rows):\n",
      "[[0.]\n",
      " [0.]\n",
      " [0.]]\n",
      "\n",
      "weights[2] (first 3 rows):\n",
      "[[-0.28605695]\n",
      " [-0.01836992]\n",
      " [-1.00027682]]\n",
      "\n",
      "biases[2]:\n",
      "[[0.]]\n"
     ]
    }
   ],
   "source": [
    "reload(a1_mlp)\n",
    "weights_grad, biases_grad = a1_mlp.backprop(y_hat, y_train, act_functions, caches)\n",
    "\n",
    "print('Shape of the weights   =', [w if w is None else w.shape for w in weights_grad])\n",
    "print('Shape of the biases    =', [b if b is None else b.shape for b in biases])\n",
    "\n",
    "print('\\nweights[1] (first 3 rows):')\n",
    "print(weights[1][:5,:3])\n",
    "\n",
    "print('\\nbiases[1] (first 3 rows):')\n",
    "print(biases[1][:3])\n",
    "\n",
    "print('\\nweights[2] (first 3 rows):')\n",
    "print(weights[2][:3])\n",
    "\n",
    "print('\\nbiases[2]:')\n",
    "print(biases[2])"
   ]
  },
  {
   "cell_type": "markdown",
   "metadata": {
    "id": "2h5mtmTMfDOc"
   },
   "source": [
    "---\n",
    "## Section 4: Training and Evaluation\n",
    "\n",
    "> **Task 4.1 (10 marks)** Batch Gradient Descent algorithm\n",
    ">\n",
    "> Implement the function `a1_mlp.train` which implements the gradient descent algorithm to train the network given a training set.\n",
    "> \n",
    "> 1. Initialize parameters with Xavier initialization\n",
    "> 2. Repeat for num_iters times:\n",
    ">     1. Forward propagation\n",
    ">     2. Compute cost\n",
    ">     3. Backpropagation\n",
    ">     4. Update parameters as follows: \n",
    ">         $$ \\mathbf{W}^{[l]} = \\mathbf{W}^{[l]} - \\alpha \\frac{\\partial J}{\\partial \\mathbf{W}^{[l]}} \\quad \\forall l$$\n",
    ">         $$ \\mathbf{b}^{[l]} = \\mathbf{b}^{[l]} - \\alpha \\frac{\\partial J}{\\partial \\mathbf{b}^{[l]}} \\quad \\forall l$$\n",
    "> \n",
    "> where $\\alpha$ is the learning rate. The function returns the network parameters (`weights` and `biases`) and the training cost plot (`history`)."
   ]
  },
  {
   "cell_type": "code",
   "execution_count": 16,
   "metadata": {
    "colab": {
     "base_uri": "https://localhost:8080/"
    },
    "id": "_-M4iiNEPi8K",
    "nbgrader": {
     "grade": true,
     "grade_id": "cell-356b7ebea6da50b1",
     "locked": true,
     "points": 10,
     "schema_version": 3,
     "solution": false,
     "task": false
    },
    "outputId": "1bb4a6ec-c718-4fdd-f155-5366a78eaf9d"
   },
   "outputs": [
    {
     "name": "stdout",
     "output_type": "stream",
     "text": [
      "Iter   1 : training cost = 0.6522\n",
      "Iter   5 : training cost = 0.4258\n",
      "Iter  10 : training cost = 0.3902\n",
      "Iter  15 : training cost = 0.3777\n",
      "Iter  20 : training cost = 0.3707\n",
      "Iter  25 : training cost = 0.3657\n",
      "Iter  30 : training cost = 0.3616\n",
      "Iter  35 : training cost = 0.3578\n",
      "Iter  40 : training cost = 0.3543\n",
      "Iter  45 : training cost = 0.3508\n",
      "Iter  50 : training cost = 0.3473\n",
      "Iter  55 : training cost = 0.3438\n",
      "Iter  60 : training cost = 0.3403\n",
      "Iter  65 : training cost = 0.3367\n",
      "Iter  70 : training cost = 0.3330\n",
      "Iter  75 : training cost = 0.3293\n",
      "Iter  80 : training cost = 0.3255\n",
      "Iter  85 : training cost = 0.3217\n",
      "Iter  90 : training cost = 0.3177\n",
      "Iter  95 : training cost = 0.3138\n",
      "Iter 100 : training cost = 0.3098\n"
     ]
    }
   ],
   "source": [
    "reload(a1_mlp)\n",
    "\n",
    "weights, biases, history = a1_mlp.train (X_train, y_train, layer_sizes, act_functions, \n",
    "                                  lr=lr, num_iters=num_iters)"
   ]
  },
  {
   "cell_type": "code",
   "execution_count": 17,
   "metadata": {},
   "outputs": [
    {
     "data": {
      "image/png": "[encoded data removed]",
      "text/plain": [
       "<Figure size 640x480 with 1 Axes>"
      ]
     },
     "metadata": {},
     "output_type": "display_data"
    }
   ],
   "source": [
    "def plot_history_cost(history):\n",
    "    plt.plot(history['iter'], history['cost'], label='cost')\n",
    "    plt.ylabel('Cost', fontsize=13)\n",
    "    plt.xlabel('Iterations', fontsize=13)\n",
    "    plt.title('Cost vs iterations', fontsize=18)\n",
    "    plt.show()\n",
    "\n",
    "plot_history_cost(history)"
   ]
  },
  {
   "cell_type": "markdown",
   "metadata": {
    "id": "eeYiDmHoPi8L"
   },
   "source": [
    "> **Task 4.2 (8 marks)** Evaluate the trained model\n",
    ">\n",
    "> Complete the function `a1_mlp.evaluate` which uses the trained model to evaluate on the validation set `X_val`, `y_val`.\n",
    "> The model parameters is stored in (`weights` and `biases`) and the activation functions used are stored in `act_functions`.\n",
    "> The predicted label is acquired through thresholding:\n",
    "> $$ \\mathbf{y}_{\\mathrm{pred}} =\n",
    "  \\begin{cases}\n",
    "    1 & \\text{if } \\hat{\\mathbf{y}} \\geq 0.5\\\\\n",
    "    0 & \\text{otherwise}\\\\\n",
    "  \\end{cases}$$\n",
    "> The compare the predicted label against the actual label `y_val`.\n"
   ]
  },
  {
   "cell_type": "code",
   "execution_count": 18,
   "metadata": {
    "colab": {
     "base_uri": "https://localhost:8080/"
    },
    "id": "Or0Npxm6NSAs",
    "nbgrader": {
     "grade": true,
     "grade_id": "cell-d88a16f39d271a5f",
     "locked": true,
     "points": 5,
     "schema_version": 3,
     "solution": false,
     "task": false
    },
    "outputId": "998f3eba-d97f-4424-ec4b-3b6fd260c9c8"
   },
   "outputs": [
    {
     "name": "stdout",
     "output_type": "stream",
     "text": [
      "Validation accuracy = 0.8852\n"
     ]
    }
   ],
   "source": [
    "reload(a1_mlp)\n",
    "\n",
    "y_hat, y_pred, acc = a1_mlp.evaluate(X_val, y_val, weights, biases, act_functions)\n",
    "print(f'Validation accuracy = {acc:.4f}')"
   ]
  },
  {
   "cell_type": "markdown",
   "metadata": {
    "id": "NwUAyw3LQ02u"
   },
   "source": [
    "<center> --- END OF ASSESSMENT --- </center>"
   ]
  }
 ],
 "metadata": {
  "colab": {
   "provenance": []
  },
  "coursera": {
   "course_slug": "neural-networks-deep-learning",
   "graded_item_id": "c4HO0",
   "launcher_item_id": "lSYZM"
  },
  "kernelspec": {
   "display_name": "base",
   "language": "python",
   "name": "python3"
  },
  "language_info": {
   "codemirror_mode": {
    "name": "ipython",
    "version": 3
   },
   "file_extension": ".py",
   "mimetype": "text/x-python",
   "name": "python",
   "nbconvert_exporter": "python",
   "pygments_lexer": "ipython3",
   "version": "3.12.2"
  }
 },
 "nbformat": 4,
 "nbformat_minor": 4
}
